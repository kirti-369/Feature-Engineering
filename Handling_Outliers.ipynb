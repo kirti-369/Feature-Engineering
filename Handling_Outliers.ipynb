{
  "nbformat": 4,
  "nbformat_minor": 0,
  "metadata": {
    "colab": {
      "provenance": []
    },
    "kernelspec": {
      "name": "python3",
      "display_name": "Python 3"
    },
    "language_info": {
      "name": "python"
    }
  },
  "cells": [
    {
      "cell_type": "markdown",
      "source": [
        "## 5 numbers summary\n",
        "\n",
        "1.   Minimum value\n",
        "2.   Q1-25 percentile\n",
        "3.   Median\n",
        "4.   Q3-75 percentile\n",
        "5.   Maximum\n",
        "\n"
      ],
      "metadata": {
        "id": "Xf2cPQvH6RRu"
      }
    },
    {
      "cell_type": "code",
      "execution_count": 1,
      "metadata": {
        "id": "i0hdycwU-15S"
      },
      "outputs": [],
      "source": [
        "import numpy as np\n",
        "import pandas as pd"
      ]
    },
    {
      "cell_type": "code",
      "source": [
        "marks = [45,32,56,75,89,90,87,67,54,45,98,99,67,74,1000,1100]"
      ],
      "metadata": {
        "id": "1w1Q27oQ6zWh"
      },
      "execution_count": 2,
      "outputs": []
    },
    {
      "cell_type": "code",
      "source": [
        "np.percentile(marks,[25]) ##here 25 is a Q 25 percentile"
      ],
      "metadata": {
        "colab": {
          "base_uri": "https://localhost:8080/"
        },
        "id": "A8x3Q-lw7Ine",
        "outputId": "50417fb4-8745-4535-9cb6-2abe4f4a7f23"
      },
      "execution_count": 3,
      "outputs": [
        {
          "output_type": "execute_result",
          "data": {
            "text/plain": [
              "array([55.5])"
            ]
          },
          "metadata": {},
          "execution_count": 3
        }
      ]
    },
    {
      "cell_type": "code",
      "source": [
        "np.percentile(marks,[100])"
      ],
      "metadata": {
        "colab": {
          "base_uri": "https://localhost:8080/"
        },
        "id": "dTgk4ZFN7RjA",
        "outputId": "7d22f8bd-66da-4173-f746-2aaffcf78524"
      },
      "execution_count": 4,
      "outputs": [
        {
          "output_type": "execute_result",
          "data": {
            "text/plain": [
              "array([1100.])"
            ]
          },
          "metadata": {},
          "execution_count": 4
        }
      ]
    },
    {
      "cell_type": "code",
      "source": [
        "## value present between lower fence and Higher Fence"
      ],
      "metadata": {
        "id": "yfHiQObJ7awr"
      },
      "execution_count": 5,
      "outputs": []
    },
    {
      "cell_type": "code",
      "source": [
        "np.percentile(marks,[25])"
      ],
      "metadata": {
        "colab": {
          "base_uri": "https://localhost:8080/"
        },
        "id": "QI7IY1bM7jWM",
        "outputId": "69e482a2-f2ce-4ebf-b2f8-947085f11ee7"
      },
      "execution_count": 6,
      "outputs": [
        {
          "output_type": "execute_result",
          "data": {
            "text/plain": [
              "array([55.5])"
            ]
          },
          "metadata": {},
          "execution_count": 6
        }
      ]
    },
    {
      "cell_type": "code",
      "source": [
        "minimum,Q1,Q2,Q3,maximum = np.quantile(marks,[0,0.25,0.50,0.75,1.0])"
      ],
      "metadata": {
        "id": "RJ8YjNd88-Uh"
      },
      "execution_count": 7,
      "outputs": []
    },
    {
      "cell_type": "code",
      "source": [
        "maximum"
      ],
      "metadata": {
        "colab": {
          "base_uri": "https://localhost:8080/"
        },
        "id": "pgbe7KHd9WwC",
        "outputId": "ae195259-7a85-402b-b11c-fb2ea62a3dd4"
      },
      "execution_count": 8,
      "outputs": [
        {
          "output_type": "execute_result",
          "data": {
            "text/plain": [
              "1100.0"
            ]
          },
          "metadata": {},
          "execution_count": 8
        }
      ]
    },
    {
      "cell_type": "code",
      "source": [
        "IQR = Q3-Q1"
      ],
      "metadata": {
        "id": "6WrtTy3S9YRm"
      },
      "execution_count": 9,
      "outputs": []
    },
    {
      "cell_type": "code",
      "source": [
        "IQR"
      ],
      "metadata": {
        "colab": {
          "base_uri": "https://localhost:8080/"
        },
        "id": "uI0dQdMz9bTN",
        "outputId": "cc9eadcb-8fef-46bc-c51a-83c3e56d5279"
      },
      "execution_count": 10,
      "outputs": [
        {
          "output_type": "execute_result",
          "data": {
            "text/plain": [
              "36.5"
            ]
          },
          "metadata": {},
          "execution_count": 10
        }
      ]
    },
    {
      "cell_type": "code",
      "source": [
        "lower_fence = Q1-1.5*IQR\n",
        "higher_fence = Q3+1.5*IQR"
      ],
      "metadata": {
        "id": "6mLBCvTu9cGD"
      },
      "execution_count": 12,
      "outputs": []
    },
    {
      "cell_type": "code",
      "source": [
        "lower_fence,higher_fence"
      ],
      "metadata": {
        "colab": {
          "base_uri": "https://localhost:8080/"
        },
        "id": "COzo4BWM-7Xi",
        "outputId": "5a1b4f18-513d-4602-fb5b-765bb6635920"
      },
      "execution_count": 13,
      "outputs": [
        {
          "output_type": "execute_result",
          "data": {
            "text/plain": [
              "(0.75, 146.75)"
            ]
          },
          "metadata": {},
          "execution_count": 13
        }
      ]
    },
    {
      "cell_type": "code",
      "source": [
        "outliers =[]\n",
        "for i in marks:\n",
        "  if i >=0.75 and i<= 142.75:\n",
        "    print(\"the element is not an outliers\")\n",
        "  else:\n",
        "    outliers.append(i)"
      ],
      "metadata": {
        "colab": {
          "base_uri": "https://localhost:8080/"
        },
        "id": "xGeepbA0_Cvw",
        "outputId": "525eab34-b045-4385-d13d-027666b17366"
      },
      "execution_count": 16,
      "outputs": [
        {
          "output_type": "stream",
          "name": "stdout",
          "text": [
            "the element is not an outliers\n",
            "the element is not an outliers\n",
            "the element is not an outliers\n",
            "the element is not an outliers\n",
            "the element is not an outliers\n",
            "the element is not an outliers\n",
            "the element is not an outliers\n",
            "the element is not an outliers\n",
            "the element is not an outliers\n",
            "the element is not an outliers\n",
            "the element is not an outliers\n",
            "the element is not an outliers\n",
            "the element is not an outliers\n",
            "the element is not an outliers\n"
          ]
        }
      ]
    },
    {
      "cell_type": "code",
      "source": [
        "outliers"
      ],
      "metadata": {
        "colab": {
          "base_uri": "https://localhost:8080/"
        },
        "id": "J8okHxTEA1Fo",
        "outputId": "99ec73cc-6faa-49a3-f904-a99629a1aff5"
      },
      "execution_count": 17,
      "outputs": [
        {
          "output_type": "execute_result",
          "data": {
            "text/plain": [
              "[1000, 1100]"
            ]
          },
          "metadata": {},
          "execution_count": 17
        }
      ]
    },
    {
      "cell_type": "code",
      "source": [
        "import seaborn as sns"
      ],
      "metadata": {
        "id": "Iam7OR3tA3O3"
      },
      "execution_count": 18,
      "outputs": []
    },
    {
      "cell_type": "code",
      "source": [
        "sns.boxplot(marks)"
      ],
      "metadata": {
        "colab": {
          "base_uri": "https://localhost:8080/",
          "height": 428
        },
        "id": "oug56q2BBCjY",
        "outputId": "15e5a0c2-2e48-492d-f5fb-1817a5b79e72"
      },
      "execution_count": 19,
      "outputs": [
        {
          "output_type": "execute_result",
          "data": {
            "text/plain": [
              "<Axes: >"
            ]
          },
          "metadata": {},
          "execution_count": 19
        },
        {
          "output_type": "display_data",
          "data": {
            "text/plain": [
              "<Figure size 640x480 with 1 Axes>"
            ],
            "image/png": "[encoded data removed]"
          },
          "metadata": {}
        }
      ]
    }
  ]
}